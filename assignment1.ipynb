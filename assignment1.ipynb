{
 "cells": [
  {
   "cell_type": "code",
   "execution_count": 1,
   "metadata": {},
   "outputs": [
    {
     "name": "stdout",
     "output_type": "stream",
     "text": [
      "Twinkle, twinkle, little star,\n",
      "      How I wonder what you are!\n",
      "            Up above the world so high,\n",
      "            Like a diamond in the sky.\n",
      "Twinkle, twinkle, little star,\n",
      "       How I wonder what you are\n"
     ]
    }
   ],
   "source": [
    "t=\"Twinkle, twinkle, little star,\\n      How I wonder what you are!\"\n",
    "h=\"\\n            Up above the world so high,\\n            Like a diamond in the sky.\"\n",
    "w=\"\\nTwinkle, twinkle, little star,\\n       How I wonder what you are\"\n",
    "print(t + h + w )"
   ]
  },
  {
   "cell_type": "code",
   "execution_count": null,
   "metadata": {},
   "outputs": [],
   "source": [
    "from datetime import datetime\n",
    "# datetime object containing current date and time\n",
    "w = datetime.w()\n",
    " \n",
    "print(\"now =\", w)\n",
    "# dd/mm/YY H:M:S\n",
    "string = now.strftime(\"%d/%m/%Y %H:%M:%S\")\n",
    "print(\"date and time =\", string)"
   ]
  },
  {
   "cell_type": "code",
   "execution_count": 3,
   "metadata": {},
   "outputs": [
    {
     "name": "stdout",
     "output_type": "stream",
     "text": [
      "phyton version is given below:\n",
      "3.7.4\n"
     ]
    }
   ],
   "source": [
    "import platform\n",
    "print(\"phyton version is given below:\")\n",
    "print(platform.python_version())"
   ]
  },
  {
   "cell_type": "code",
   "execution_count": null,
   "metadata": {},
   "outputs": [],
   "source": [
    "B = int(input(\"Please Enter radius below\\n\"))\n",
    "c =3.14*r**2\n",
    "print(\"Area of circle with radius \"+str(r) + \" is =\" + str(A))"
   ]
  },
  {
   "cell_type": "code",
   "execution_count": null,
   "metadata": {},
   "outputs": [],
   "source": [
    "GIl1 = input(\"please Enter first name\")\n",
    "GIL2 = input(\"please Enter last name\")\n",
    "\n",
    "print(GIl1[::-1] + \" \" + GIL2[::-1])"
   ]
  },
  {
   "cell_type": "code",
   "execution_count": null,
   "metadata": {},
   "outputs": [],
   "source": [
    "GIl1 =int(input(\"Please Enter first number\"))\n",
    "GIL2 =int(input(\"Plase Enter second number\"))\n",
    "result = GIl1 +GIL2\n",
    "\n",
    "print(result)"
   ]
  },
  {
   "cell_type": "code",
   "execution_count": null,
   "metadata": {},
   "outputs": [],
   "source": []
  }
 ],
 "metadata": {
  "kernelspec": {
   "display_name": "Python 3",
   "language": "python",
   "name": "python3"
  },
  "language_info": {
   "codemirror_mode": {
    "name": "ipython",
    "version": 3
   },
   "file_extension": ".py",
   "mimetype": "text/x-python",
   "name": "python",
   "nbconvert_exporter": "python",
   "pygments_lexer": "ipython3",
   "version": "3.7.4"
  }
 },
 "nbformat": 4,
 "nbformat_minor": 2
}
