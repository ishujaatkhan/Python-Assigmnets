{
 "cells": [
  {
   "cell_type": "code",
   "execution_count": null,
   "metadata": {},
   "outputs": [],
   "source": [
    "OOP =int(input(\"Please Enter OOP Marks :    \"))\n",
    "DB = int(input(\"Please Enter Db Marks  :    \"))\n",
    "SE =int(input(\"Please Enter SE Marks   :    \"))\n",
    "DS =int(input(\"Please Enter DS Marks   :    \"))\n",
    "OS = int(input(\"Please Enter OS Marks  :    \"))\n",
    "\n",
    "\n",
    "\n",
    "total = OOP + DB + SE + DS + OS\n",
    "\n",
    "per = (total / 500) * 100\n",
    "\n",
    "if per <= 100 and per >= 80 :\n",
    "    print(\"Your Grade : A+\")\n",
    "    print(\"Your Percentage is \" + str(per))\n",
    "elif per < 80 and per >=70 :\n",
    "    print(\"Your Grade : A\")\n",
    "    print(\"Your Percentage is \" + str(per))\n",
    "elif per < 70 and per >=60 :\n",
    "    print(\"Your Grade : B\")\n",
    "    print(\"Your Percentage is \" + str(per))\n",
    "elif per < 60 and per >=50 :\n",
    "    print(\"Your Grade : C\")\n",
    "    print(\"Your Percentage is \" + str(per))\n",
    "elif per < 50 and per >=40 :\n",
    "    print(\"Your Grade : D\")\n",
    "    print(\"Your Percentage is \" + str(per))\n",
    "elif per < 40 and per >=33 :\n",
    "    print(\"Your Grade : E\")\n",
    "    print(\"Your Percentage is \" + str(per))\n",
    "elif per < 33 and per >=0 :\n",
    "    print(\"Sorry ! You got Fail!\")\n",
    "    print(\"Your Percentage is \" + str(per))\n",
    "\n"
   ]
  },
  {
   "cell_type": "code",
   "execution_count": null,
   "metadata": {},
   "outputs": [],
   "source": [
    "r = [1,3,5,7,9]\n",
    "print(len(r))"
   ]
  },
  {
   "cell_type": "code",
   "execution_count": null,
   "metadata": {},
   "outputs": [],
   "source": [
    "k =[1,3,444,74,9,25]\n",
    "print(\"Largest Number  \",max(k))"
   ]
  },
  {
   "cell_type": "code",
   "execution_count": null,
   "metadata": {},
   "outputs": [],
   "source": [
    "a = [0,9,55,45,100]\n",
    "print(\"Sum of all  \",sum(a))"
   ]
  },
  {
   "cell_type": "code",
   "execution_count": null,
   "metadata": {},
   "outputs": [],
   "source": [
    "b = [1,1,2,13,21,34,55,89]\n",
    "for c in b:\n",
    "    if c < 5:\n",
    "        print(c)"
   ]
  }
 ],
 "metadata": {
  "kernelspec": {
   "display_name": "Python 3",
   "language": "python",
   "name": "python3"
  },
  "language_info": {
   "codemirror_mode": {
    "name": "ipython",
    "version": 3
   },
   "file_extension": ".py",
   "mimetype": "text/x-python",
   "name": "python",
   "nbconvert_exporter": "python",
   "pygments_lexer": "ipython3",
   "version": "3.7.4"
  }
 },
 "nbformat": 4,
 "nbformat_minor": 2
}
