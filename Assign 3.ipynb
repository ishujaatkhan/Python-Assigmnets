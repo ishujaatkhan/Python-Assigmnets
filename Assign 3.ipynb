{
 "cells": [
  {
   "cell_type": "code",
   "execution_count": 1,
   "metadata": {},
   "outputs": [
    {
     "name": "stdout",
     "output_type": "stream",
     "text": [
      "Enter first value: 45\n",
      "Enter operator = +\n",
      "Enter second value: 5\n",
      "Answer :  50\n"
     ]
    }
   ],
   "source": [
    "val1 = input('Enter first value: ')\n",
    "operator = input('Enter operator = ')\n",
    "val2 = input('Enter second value: ')\n",
    "'''val1 == int(val1)\n",
    "   val2 == int(val2)\n",
    "   is trha se bhi int mai convert ke skte han\n",
    "   '''\n",
    "if operator == '+' :\n",
    "    val = int(val1) + int(val2)\n",
    "    print('Answer : ',val)\n",
    "elif operator == '-' :\n",
    "    val = int(val1) - int(val2)\n",
    "    print('Answer : ',val)\n",
    "elif operator == '*' :\n",
    "    val = int(val1) * int(val2)\n",
    "    print('Answer : ',val)\n",
    "elif operator == '/' :\n",
    "    val = int(val1) // int(val2)\n",
    "    print('Answer : ',val)\n",
    "elif operator == '**' :\n",
    "    val = int(val1) ** int(val2)\n",
    "    print('Answer : ',val)\n",
    "else :\n",
    "    print('Enter Correct Operator!')"
   ]
  },
  {
   "cell_type": "code",
   "execution_count": 2,
   "metadata": {},
   "outputs": [
    {
     "name": "stdout",
     "output_type": "stream",
     "text": [
      "numeric value is : 1\n",
      "string value is : Orange\n",
      "numeric value is : 2\n",
      "numeric value is : 54\n",
      "string value is : Apple\n",
      "numeric value is : 3\n",
      "numeric value is : 4\n"
     ]
    }
   ],
   "source": [
    "my = [1,'Orange',2,54,'Apple',3,4]\n",
    "\n",
    "for ab in my:\n",
    "    if isinstance(ab,int):\n",
    "        print(\"numeric value is :\",ab)\n",
    "    else:\n",
    "        print(\"string value is :\",ab)"
   ]
  },
  {
   "cell_type": "code",
   "execution_count": 3,
   "metadata": {},
   "outputs": [
    {
     "name": "stdout",
     "output_type": "stream",
     "text": [
      "{'first name': 'Dav', 'last name': 'Ell', 'address': '480 St.', 'street no': '05'}\n"
     ]
    }
   ],
   "source": [
    "mr = {\n",
    "    \"first name\": \"Dav\", \n",
    "    \"last name\": \"Ell\", \n",
    "    \"address\": \"480 St.\"\n",
    "} \n",
    "mr[\"street no\"] = '05'\n",
    "print(mr)"
   ]
  },
  {
   "cell_type": "code",
   "execution_count": 6,
   "metadata": {},
   "outputs": [
    {
     "name": "stdout",
     "output_type": "stream",
     "text": [
      "Sum of all  310\n"
     ]
    }
   ],
   "source": [
    "o = {\n",
    "    'ab': 121,\n",
    "    'bc': 155 ,\n",
    "    'cd' : 'Tarzon' , \n",
    "    'df' : 34\n",
    "       }\n",
    "sum =0\n",
    "for ik in o.values():\n",
    "    if type(ik) ==int:\n",
    "        sum +=ik\n",
    "print(\"Sum of all \",sum)"
   ]
  },
  {
   "cell_type": "code",
   "execution_count": 8,
   "metadata": {},
   "outputs": [
    {
     "name": "stdout",
     "output_type": "stream",
     "text": [
      "8 is dublicate\n",
      "sr is dublicate\n",
      "51 is dublicate\n"
     ]
    }
   ],
   "source": [
    "lis =[8,7,'karhi',51,'sr',8,'sr',51]\n",
    "p=[]\n",
    "for i in lis:\n",
    "    for j in p:\n",
    "        if (i == j):\n",
    "            print(i,'is dublicate')\n",
    "    p.append(i)"
   ]
  },
  {
   "cell_type": "code",
   "execution_count": 9,
   "metadata": {},
   "outputs": [
    {
     "name": "stdout",
     "output_type": "stream",
     "text": [
      "Enter key Namecw\n",
      " key Exist\n"
     ]
    }
   ],
   "source": [
    "o = {\n",
    "    'av': 121,\n",
    "    'bs': 151 ,\n",
    "    'cw' : 'ra' , \n",
    "    'dw' : 31\n",
    "       }\n",
    "_key =input(\"Enter key Name\")\n",
    "lags = False\n",
    "for i in o.keys():\n",
    "    if i==_key:\n",
    "        lags = True\n",
    "        break\n",
    "if lags:\n",
    "    print(\" key Exist\")\n",
    "else:\n",
    "    print(\" key does not Exist\")"
   ]
  },
  {
   "cell_type": "code",
   "execution_count": null,
   "metadata": {},
   "outputs": [],
   "source": []
  }
 ],
 "metadata": {
  "kernelspec": {
   "display_name": "Python 3",
   "language": "python",
   "name": "python3"
  },
  "language_info": {
   "codemirror_mode": {
    "name": "ipython",
    "version": 3
   },
   "file_extension": ".py",
   "mimetype": "text/x-python",
   "name": "python",
   "nbconvert_exporter": "python",
   "pygments_lexer": "ipython3",
   "version": "3.7.4"
  }
 },
 "nbformat": 4,
 "nbformat_minor": 2
}
